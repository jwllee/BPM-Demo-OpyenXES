{
 "cells": [
  {
   "cell_type": "code",
   "execution_count": 2,
   "metadata": {},
   "outputs": [],
   "source": [
    "# %load /home/jonathan/.ipython/profile_default/startup/01-setup.py\n",
    "# start up settings for jupyter notebook\n",
    "import pandas as pd\n",
    "import numpy as np\n",
    "import matplotlib.pyplot as plt\n",
    "import os, sys\n",
    "\n",
    "plt.style.use('ggplot')\n",
    "plt.rcParams['font.size'] = 15.0\n",
    "plt.rcParams['axes.labelsize'] = 15.0\n",
    "plt.rcParams['xtick.labelsize'] = 15.0\n",
    "plt.rcParams['ytick.labelsize'] = 15.0\n",
    "plt.rcParams['legend.fontsize'] = 15.0\n",
    "\n",
    "%matplotlib inline\n",
    "\n",
    "# set the max column width\n",
    "pd.options.display.max_colwidth = 1000\n",
    "\n",
    "# to avoid have warnings from chained assignments\n",
    "pd.options.mode.chained_assignment = None\n"
   ]
  },
  {
   "cell_type": "markdown",
   "metadata": {},
   "source": [
    "## Import event data in CSV format"
   ]
  },
  {
   "cell_type": "code",
   "execution_count": 3,
   "metadata": {},
   "outputs": [],
   "source": [
    "csv_fp = './data/BPIC2012.csv'\n",
    "\n",
    "event_df = pd.read_csv(csv_fp)"
   ]
  },
  {
   "cell_type": "code",
   "execution_count": 4,
   "metadata": {},
   "outputs": [
    {
     "data": {
      "text/html": [
       "<div>\n",
       "<style scoped>\n",
       "    .dataframe tbody tr th:only-of-type {\n",
       "        vertical-align: middle;\n",
       "    }\n",
       "\n",
       "    .dataframe tbody tr th {\n",
       "        vertical-align: top;\n",
       "    }\n",
       "\n",
       "    .dataframe thead th {\n",
       "        text-align: right;\n",
       "    }\n",
       "</style>\n",
       "<table border=\"1\" class=\"dataframe\">\n",
       "  <thead>\n",
       "    <tr style=\"text-align: right;\">\n",
       "      <th></th>\n",
       "      <th>trace:REG_DATE</th>\n",
       "      <th>trace:concept:name</th>\n",
       "      <th>trace:AMOUNT_REQ</th>\n",
       "      <th>caseid</th>\n",
       "      <th>event:org:resource</th>\n",
       "      <th>event:lifecycle:transition</th>\n",
       "      <th>event:concept:name</th>\n",
       "      <th>event:time:timestamp</th>\n",
       "    </tr>\n",
       "  </thead>\n",
       "  <tbody>\n",
       "    <tr>\n",
       "      <th>0</th>\n",
       "      <td>2011-10-01 00:38:44.546000+02:00</td>\n",
       "      <td>173688</td>\n",
       "      <td>20000</td>\n",
       "      <td>173688</td>\n",
       "      <td>112.0</td>\n",
       "      <td>COMPLETE</td>\n",
       "      <td>A_SUBMITTED</td>\n",
       "      <td>2011-10-01 00:38:44.546000+02:00</td>\n",
       "    </tr>\n",
       "    <tr>\n",
       "      <th>1</th>\n",
       "      <td>2011-10-01 00:38:44.546000+02:00</td>\n",
       "      <td>173688</td>\n",
       "      <td>20000</td>\n",
       "      <td>173688</td>\n",
       "      <td>112.0</td>\n",
       "      <td>COMPLETE</td>\n",
       "      <td>A_PARTLYSUBMITTED</td>\n",
       "      <td>2011-10-01 00:38:44.880000+02:00</td>\n",
       "    </tr>\n",
       "    <tr>\n",
       "      <th>2</th>\n",
       "      <td>2011-10-01 00:38:44.546000+02:00</td>\n",
       "      <td>173688</td>\n",
       "      <td>20000</td>\n",
       "      <td>173688</td>\n",
       "      <td>112.0</td>\n",
       "      <td>COMPLETE</td>\n",
       "      <td>A_PREACCEPTED</td>\n",
       "      <td>2011-10-01 00:39:37.906000+02:00</td>\n",
       "    </tr>\n",
       "    <tr>\n",
       "      <th>3</th>\n",
       "      <td>2011-10-01 00:38:44.546000+02:00</td>\n",
       "      <td>173688</td>\n",
       "      <td>20000</td>\n",
       "      <td>173688</td>\n",
       "      <td>112.0</td>\n",
       "      <td>SCHEDULE</td>\n",
       "      <td>W_Completeren aanvraag</td>\n",
       "      <td>2011-10-01 00:39:38.875000+02:00</td>\n",
       "    </tr>\n",
       "    <tr>\n",
       "      <th>4</th>\n",
       "      <td>2011-10-01 00:38:44.546000+02:00</td>\n",
       "      <td>173688</td>\n",
       "      <td>20000</td>\n",
       "      <td>173688</td>\n",
       "      <td>NaN</td>\n",
       "      <td>START</td>\n",
       "      <td>W_Completeren aanvraag</td>\n",
       "      <td>2011-10-01 11:36:46.437000+02:00</td>\n",
       "    </tr>\n",
       "  </tbody>\n",
       "</table>\n",
       "</div>"
      ],
      "text/plain": [
       "                     trace:REG_DATE  trace:concept:name  trace:AMOUNT_REQ  \\\n",
       "0  2011-10-01 00:38:44.546000+02:00              173688             20000   \n",
       "1  2011-10-01 00:38:44.546000+02:00              173688             20000   \n",
       "2  2011-10-01 00:38:44.546000+02:00              173688             20000   \n",
       "3  2011-10-01 00:38:44.546000+02:00              173688             20000   \n",
       "4  2011-10-01 00:38:44.546000+02:00              173688             20000   \n",
       "\n",
       "   caseid  event:org:resource event:lifecycle:transition  \\\n",
       "0  173688               112.0                   COMPLETE   \n",
       "1  173688               112.0                   COMPLETE   \n",
       "2  173688               112.0                   COMPLETE   \n",
       "3  173688               112.0                   SCHEDULE   \n",
       "4  173688                 NaN                      START   \n",
       "\n",
       "       event:concept:name              event:time:timestamp  \n",
       "0             A_SUBMITTED  2011-10-01 00:38:44.546000+02:00  \n",
       "1       A_PARTLYSUBMITTED  2011-10-01 00:38:44.880000+02:00  \n",
       "2           A_PREACCEPTED  2011-10-01 00:39:37.906000+02:00  \n",
       "3  W_Completeren aanvraag  2011-10-01 00:39:38.875000+02:00  \n",
       "4  W_Completeren aanvraag  2011-10-01 11:36:46.437000+02:00  "
      ]
     },
     "execution_count": 4,
     "metadata": {},
     "output_type": "execute_result"
    }
   ],
   "source": [
    "event_df.head()"
   ]
  },
  {
   "cell_type": "code",
   "execution_count": null,
   "metadata": {},
   "outputs": [],
   "source": []
  }
 ],
 "metadata": {
  "kernelspec": {
   "display_name": "Python (bpm-demo-opyenxes)",
   "language": "python",
   "name": "bpm-demo-opyenxes"
  },
  "language_info": {
   "codemirror_mode": {
    "name": "ipython",
    "version": 3
   },
   "file_extension": ".py",
   "mimetype": "text/x-python",
   "name": "python",
   "nbconvert_exporter": "python",
   "pygments_lexer": "ipython3",
   "version": "3.7.0"
  }
 },
 "nbformat": 4,
 "nbformat_minor": 2
}
